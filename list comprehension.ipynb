{
  "nbformat": 4,
  "nbformat_minor": 0,
  "metadata": {
    "colab": {
      "name": "Untitled0.ipynb",
      "provenance": [],
      "collapsed_sections": [],
      "toc_visible": true
    },
    "kernelspec": {
      "name": "python3",
      "display_name": "Python 3"
    }
  },
  "cells": [
    {
      "cell_type": "code",
      "metadata": {
        "colab": {
          "base_uri": "https://localhost:8080/"
        },
        "id": "trOUdE8r3LWy",
        "outputId": "f5c75d67-659c-434a-fb1d-ddb2e34d5d32"
      },
      "source": [
        "#print the even number\r\n",
        "thisList = [1,2,3,4,5,6,7,8]   \r\n",
        "for i in thisList:\r\n",
        "  if i%2 == 0:\r\n",
        "    print(i)"
      ],
      "execution_count": null,
      "outputs": [
        {
          "output_type": "stream",
          "text": [
            "2\n",
            "4\n",
            "6\n",
            "8\n"
          ],
          "name": "stdout"
        }
      ]
    },
    {
      "cell_type": "code",
      "metadata": {
        "id": "nCFNd6laK0vH"
      },
      "source": [
        ""
      ],
      "execution_count": null,
      "outputs": []
    },
    {
      "cell_type": "code",
      "metadata": {
        "colab": {
          "base_uri": "https://localhost:8080/"
        },
        "id": "OsszkBX75zlu",
        "outputId": "0eb2ea84-c886-4cda-ae13-7741e02535d9"
      },
      "source": [
        "# print the statement \r\n",
        "thisList = [1,3,5,10,15,30,45,66]\r\n",
        "for i in thisList:\r\n",
        "    if i%3 == 0 and i%5 == 0:\r\n",
        "     print(\"foobar\",i)\r\n",
        "    elif i%5 == 0:\r\n",
        "      print(\"bar\",i)\r\n",
        "    elif i%3 == 0:\r\n",
        "        print(\"foo\",i)\r\n",
        "    "
      ],
      "execution_count": null,
      "outputs": [
        {
          "output_type": "stream",
          "text": [
            "foo 3\n",
            "bar 5\n",
            "bar 10\n",
            "foobar 15\n",
            "foobar 30\n",
            "foobar 45\n",
            "foo 66\n"
          ],
          "name": "stdout"
        }
      ]
    },
    {
      "cell_type": "code",
      "metadata": {
        "id": "bA7Ef1JlG_Tw",
        "colab": {
          "base_uri": "https://localhost:8080/"
        },
        "outputId": "dac1297b-d7ed-4edb-91b9-058c250d11b4"
      },
      "source": [
        "# built a calculator\r\n",
        "class calculator:\r\n",
        "    def __init__(my_john,num1,num2):\r\n",
        "      my_john.num1=num1\r\n",
        "      my_john.num2=num2\r\n",
        "    \r\n",
        "\r\n",
        "    def addition(my_john):\r\n",
        "     sum=my_john.num1+my_john.num2\r\n",
        "     return sum\r\n",
        "\r\n",
        "\r\n",
        "    def subtraction(my_john):\r\n",
        "      sub=my_john.num1-my_john.num2\r\n",
        "      return sub\r\n",
        "\r\n",
        "\r\n",
        "    def multiplaction(my_john):\r\n",
        "      multi=my_john.num1*my_john.num2\r\n",
        "      return multi\r\n",
        "\r\n",
        "\r\n",
        "\r\n",
        "    def division(my_john):\r\n",
        "     if my_john.num2>0:\r\n",
        "         div=my_john.num1/my_john.num2\r\n",
        "         return div\r\n",
        "     else:\r\n",
        "        return \"denominator must be grater then 0\"\r\n",
        "\r\n",
        "\r\n",
        "    def modulus(my_john):\r\n",
        "      modu=my_john.num1%my_john.num2\r\n",
        "      return modu\r\n",
        "       \r\n",
        "\r\n",
        "\r\n",
        "    def power(my_john):\r\n",
        "      powe=my_john.num1**my_john.num2\r\n",
        "      return powe\r\n",
        "\r\n",
        "\r\n",
        "      print1(\"1 for addition\")\r\n",
        "      print(\"2 for subtraction\")\r\n",
        "      print(\"3 for multiplaction\")\r\n",
        "      print(\"4 for division\")\r\n",
        "      print(\"5 for modulus\")\r\n",
        "      print(\"6 for power\")\r\n",
        "\r\n",
        "\r\n",
        "x=\"yes\"\r\n",
        "while x==\"yes\":\r\n",
        "       \r\n",
        "\r\n",
        "   print(\"enter the choose for operation\")\r\n",
        "   choice=input(\"enter the choice\")\r\n",
        "      \r\n",
        "\r\n",
        "   if choice in ('1','2','3','4','5','6'): \r\n",
        "        num1= int(input(\"enter the  first number\"))\r\n",
        "        num2= int(input(\"enter the second number\"))\r\n",
        "        p1=calculator(num1,num2)\r\n",
        "\r\n",
        "\r\n",
        "        if choice=='1':\r\n",
        "          print(num1,\"+\",num2,\"=\",p1.addition())\r\n",
        "           \r\n",
        "\r\n",
        "            \r\n",
        "        elif choice=='2':\r\n",
        "          print(num1,\"-\",num2,\"=\",p1.substraction())\r\n",
        "\r\n",
        "\r\n",
        "        elif choice=='3':\r\n",
        "          print(num,\"*\",p1.multiplaction())\r\n",
        "\r\n",
        "        elif choice=='4':\r\n",
        "          print(num1,\"/\",p1.division())\r\n",
        "\r\n",
        "        elif choice=='5':\r\n",
        "          print(num1,\"%\",p1.modulus())\r\n",
        "\r\n",
        "\r\n",
        "        elif choice=='6':\r\n",
        "          print(num1,\"**\",p1.power())\r\n",
        "\r\n",
        "\r\n",
        "   else:\r\n",
        "      print(\"invalid input\")\r\n",
        "    \r\n",
        "print(\"do you want to continue if yes please enter yes/no\")\r\n",
        "x=input(\"enter yes/no\")\r\n",
        "\r\n"
      ],
      "execution_count": null,
      "outputs": [
        {
          "output_type": "stream",
          "text": [
            "enter the choose for operation\n",
            "enter the choice1\n",
            "enter the  first number2\n",
            "enter the second number3\n",
            "2 + 3 = 5\n",
            "enter the choose for operation\n"
          ],
          "name": "stdout"
        }
      ]
    },
    {
      "cell_type": "code",
      "metadata": {
        "colab": {
          "base_uri": "https://localhost:8080/"
        },
        "id": "zktvtelLlr9H",
        "outputId": "2b7f3adb-2dc1-44a9-89ad-ed12bce48fa6"
      },
      "source": [
        "# print list compersion of odd number\r\n",
        "#Print odd number using List Compreshension. a = [ 1,2,3,4,5,6,7,8,9]\r\n",
        "a = [1,2,3,4,5,6,7,8,9]\r\n",
        "odd_nos = [num for num in a if num % 2 != 0]\r\n",
        "print(\"Odd numbers : \", odd_nos)\r\n"
      ],
      "execution_count": 9,
      "outputs": [
        {
          "output_type": "stream",
          "text": [
            "Odd numbers :  [1, 3, 5, 7, 9]\n"
          ],
          "name": "stdout"
        }
      ]
    },
    {
      "cell_type": "code",
      "metadata": {
        "colab": {
          "base_uri": "https://localhost:8080/"
        },
        "id": "xDPPrG6WpWeB",
        "outputId": "0dcee854-98c4-4e88-bc79-4c4aa0827c00"
      },
      "source": [
        "#write a function that takes in a non-empty array of distinct integers and an integer representing a target sum. If any two numbers in the input array sum up to the target sum, the function should return them in an array, in any order. If no two numbers sum up to the target sum, the function should return an empty array.\r\n",
        "\r\n",
        "#Note that the target sum has to be obtained by summing two different integers in the array; you can't add a single integer to itself in order to obtain the target sum.\r\n",
        "\r\n",
        "\r\n",
        "#Sample Input:- array = [3, 5, -4, 8, 11, 1, -1, 6]\r\n",
        "#targetSum = 0\r\n",
        "\r\n",
        "\r\n",
        "\r\n",
        "\r\n",
        "a=[3,5,-4,8,11,1,-1,6]\r\n",
        "targetSum=10\r\n",
        "b=[]\r\n",
        "def myfun(a,targetSum):\r\n",
        "  for i in a:\r\n",
        "    for j in a:\r\n",
        "      if i+j==targetSum and i!=j:\r\n",
        "        if i not in b:\r\n",
        "          if j not in b:\r\n",
        "            b.append(i)\r\n",
        "            b.append(j)\r\n",
        "myfun(a,targetSum)\r\n",
        "print(b)"
      ],
      "execution_count": 17,
      "outputs": [
        {
          "output_type": "stream",
          "text": [
            "[11, -1]\n"
          ],
          "name": "stdout"
        }
      ]
    }
  ]
}